{
 "cells": [
  {
   "cell_type": "markdown",
   "id": "40713d13",
   "metadata": {},
   "source": [
    "# Challenge1 in FSDS_2022"
   ]
  },
  {
   "cell_type": "markdown",
   "id": "7d480148",
   "metadata": {},
   "source": [
    "s = \"this is My First Python programming class and i am learNING python string and its function\"\n",
    "1. Try to extract data from index one to index 300 with a jump of 3 \n",
    "2. Try to reverse a string without using reverse function \n",
    "3. Try to split a string after conversion of entire string in uppercase \n",
    "4. Try to convert the whole string into lower case \n",
    "5. Try to capitalize the whole string \n",
    "6. Write a difference between isalnum() and isalpha()\n",
    "7. Try to give an example of expand tab\n",
    "8. Give an example of strip , lstrip and rstrip \n",
    "9. Replace a string character by another charactor by taking your own example \"sudhanshu\"\n",
    "10. Try  to give a defination of string center function with and exmple \n",
    "11. Write your own definition of compiler and interpretor without copy paste form internet in your own language\n",
    "12. Python is a interpreted of compiled language give a clear ans with your understanding \n",
    "13. Try to write a usecase of python with your understanding .\n",
    "\n",
    "\n",
    " \n"
   ]
  },
  {
   "cell_type": "code",
   "execution_count": 2,
   "id": "2a284879",
   "metadata": {},
   "outputs": [],
   "source": [
    "s = \"this is My First Python programming class and i am learNING python string and its function\""
   ]
  },
  {
   "cell_type": "markdown",
   "id": "2504dfb3",
   "metadata": {},
   "source": [
    "### 1. Try to extract data from index one to index 300 with a jump of 3 "
   ]
  },
  {
   "cell_type": "code",
   "execution_count": 4,
   "id": "148506dc",
   "metadata": {},
   "outputs": [
    {
     "data": {
      "text/plain": [
       "'h   r tnrrmglsnimeNGyosi dtfco'"
      ]
     },
     "execution_count": 4,
     "metadata": {},
     "output_type": "execute_result"
    }
   ],
   "source": [
    "s[1:300:3]   "
   ]
  },
  {
   "cell_type": "markdown",
   "id": "c3132b20",
   "metadata": {},
   "source": [
    "### 2. Try to reverse a string without using reverse function "
   ]
  },
  {
   "cell_type": "code",
   "execution_count": 5,
   "id": "3662f8b7",
   "metadata": {},
   "outputs": [
    {
     "data": {
      "text/plain": [
       "'noitcnuf sti dna gnirts nohtyp GNINrael ma i dna ssalc gnimmargorp nohtyP tsriF yM si siht'"
      ]
     },
     "execution_count": 5,
     "metadata": {},
     "output_type": "execute_result"
    }
   ],
   "source": [
    "s[::-1]"
   ]
  },
  {
   "cell_type": "markdown",
   "id": "c5067178",
   "metadata": {},
   "source": [
    "### 3. Try to split a string after conversion of entire string in uppercase "
   ]
  },
  {
   "cell_type": "code",
   "execution_count": 9,
   "id": "70c5c3aa",
   "metadata": {},
   "outputs": [],
   "source": [
    "u = s.upper()    "
   ]
  },
  {
   "cell_type": "code",
   "execution_count": 11,
   "id": "356ddad6",
   "metadata": {},
   "outputs": [
    {
     "data": {
      "text/plain": [
       "'THIS IS MY FIRST PYTHON PROGRAMMING CLASS AND I AM LEARNING PYTHON STRING AND ITS FUNCTION'"
      ]
     },
     "execution_count": 11,
     "metadata": {},
     "output_type": "execute_result"
    }
   ],
   "source": [
    "u            "
   ]
  },
  {
   "cell_type": "code",
   "execution_count": 10,
   "id": "776ad7bd",
   "metadata": {},
   "outputs": [
    {
     "data": {
      "text/plain": [
       "['THIS',\n",
       " 'IS',\n",
       " 'MY',\n",
       " 'FIRST',\n",
       " 'PYTHON',\n",
       " 'PROGRAMMING',\n",
       " 'CLASS',\n",
       " 'AND',\n",
       " 'I',\n",
       " 'AM',\n",
       " 'LEARNING',\n",
       " 'PYTHON',\n",
       " 'STRING',\n",
       " 'AND',\n",
       " 'ITS',\n",
       " 'FUNCTION']"
      ]
     },
     "execution_count": 10,
     "metadata": {},
     "output_type": "execute_result"
    }
   ],
   "source": [
    "u.split()"
   ]
  },
  {
   "cell_type": "markdown",
   "id": "47c96898",
   "metadata": {},
   "source": [
    "### 4. Try to convert the whole string into lower case "
   ]
  },
  {
   "cell_type": "code",
   "execution_count": 12,
   "id": "d26904c0",
   "metadata": {},
   "outputs": [
    {
     "data": {
      "text/plain": [
       "'this is my first python programming class and i am learning python string and its function'"
      ]
     },
     "execution_count": 12,
     "metadata": {},
     "output_type": "execute_result"
    }
   ],
   "source": [
    "s.lower()"
   ]
  },
  {
   "cell_type": "markdown",
   "id": "aec86635",
   "metadata": {},
   "source": [
    "### 5. Try to capitalize the whole string "
   ]
  },
  {
   "cell_type": "code",
   "execution_count": 13,
   "id": "4b8dad0b",
   "metadata": {},
   "outputs": [
    {
     "data": {
      "text/plain": [
       "'This is my first python programming class and i am learning python string and its function'"
      ]
     },
     "execution_count": 13,
     "metadata": {},
     "output_type": "execute_result"
    }
   ],
   "source": [
    "s.capitalize()"
   ]
  },
  {
   "cell_type": "code",
   "execution_count": null,
   "id": "f9d1c6c1",
   "metadata": {},
   "outputs": [],
   "source": []
  },
  {
   "cell_type": "markdown",
   "id": "81a85520",
   "metadata": {},
   "source": [
    "### 6. Write the difference between isalnum() and isalpha().\n",
    "\n",
    "isalnum(): isalnum() is the in-built function which determine is there any numerical or alphabet in the string. It returns boolean value \"True\", when the string consists of numerics or alphabets in it, otherwise it returns \"False\". On there otherhand, isalpha() is a in-built function which determines, is there any alphabet in the string. It returns boolean value \"True\", when the string consists of only alphabets in it, otherwise it returns \"False\".\n",
    "\n",
    "\n",
    "\n",
    "\n",
    "   * **Signature: s.isalnum()**\n",
    "   * **Docstring:** Return True if the string is an alpha-numeric string, False otherwise.A string is alpha-numeric if all characters in the string are alpha-numeric and there is at least one character in the string.\n",
    "   * **Type:**     builtin_function_or_method\n",
    "\n",
    "\n",
    "\n",
    "\n",
    "   * **Signature: s.isalpha()**\n",
    "   * **Docstring:** Return True if the string is an alphabetic string, False otherwise. A string is alphabetic if all characters in the string are alphabetic and there is at least one character in the string.\n",
    "   * **Type:**      builtin_function_or_method"
   ]
  },
  {
   "cell_type": "code",
   "execution_count": 17,
   "id": "75e4312b",
   "metadata": {},
   "outputs": [],
   "source": [
    "s = \"this is My First Python programming class and i am learNING python string and its function\""
   ]
  },
  {
   "cell_type": "code",
   "execution_count": 18,
   "id": "73deb788",
   "metadata": {},
   "outputs": [
    {
     "data": {
      "text/plain": [
       "False"
      ]
     },
     "execution_count": 18,
     "metadata": {},
     "output_type": "execute_result"
    }
   ],
   "source": [
    "s.isalnum()"
   ]
  },
  {
   "cell_type": "code",
   "execution_count": 19,
   "id": "2e845125",
   "metadata": {},
   "outputs": [
    {
     "data": {
      "text/plain": [
       "False"
      ]
     },
     "execution_count": 19,
     "metadata": {},
     "output_type": "execute_result"
    }
   ],
   "source": [
    "s.isalpha()"
   ]
  },
  {
   "cell_type": "markdown",
   "id": "4ade6e6a",
   "metadata": {},
   "source": [
    "## 7. Try to give an example of expand tab"
   ]
  },
  {
   "cell_type": "code",
   "execution_count": 29,
   "id": "4c341eb2",
   "metadata": {},
   "outputs": [],
   "source": [
    "p = \"Full\\tStack\\tData\\tScience\""
   ]
  },
  {
   "cell_type": "code",
   "execution_count": 30,
   "id": "ebae59d7",
   "metadata": {},
   "outputs": [
    {
     "data": {
      "text/plain": [
       "'Full    Stack   Data    Science'"
      ]
     },
     "execution_count": 30,
     "metadata": {},
     "output_type": "execute_result"
    }
   ],
   "source": [
    "p.expandtabs()    # bydefault 8 tabsize"
   ]
  },
  {
   "cell_type": "markdown",
   "id": "187a67b9",
   "metadata": {},
   "source": [
    "## 8. Give an example of strip , lstrip and rstrip "
   ]
  },
  {
   "cell_type": "code",
   "execution_count": 36,
   "id": "f4f9fc28",
   "metadata": {},
   "outputs": [],
   "source": [
    "p = \"    F    S  D  S    \""
   ]
  },
  {
   "cell_type": "code",
   "execution_count": 38,
   "id": "8f39515a",
   "metadata": {},
   "outputs": [
    {
     "data": {
      "text/plain": [
       "'F    S  D  S'"
      ]
     },
     "execution_count": 38,
     "metadata": {},
     "output_type": "execute_result"
    }
   ],
   "source": [
    "p.strip()      # leading and trailing whitespace removed."
   ]
  },
  {
   "cell_type": "code",
   "execution_count": 39,
   "id": "7229bd29",
   "metadata": {},
   "outputs": [
    {
     "data": {
      "text/plain": [
       "'F    S  D  S    '"
      ]
     },
     "execution_count": 39,
     "metadata": {},
     "output_type": "execute_result"
    }
   ],
   "source": [
    "p.lstrip()     # leading whitespace removed."
   ]
  },
  {
   "cell_type": "code",
   "execution_count": 41,
   "id": "dd85e81c",
   "metadata": {},
   "outputs": [
    {
     "data": {
      "text/plain": [
       "'    F    S  D  S'"
      ]
     },
     "execution_count": 41,
     "metadata": {},
     "output_type": "execute_result"
    }
   ],
   "source": [
    "p.rstrip()     # trailing whitespace removed."
   ]
  },
  {
   "cell_type": "markdown",
   "id": "73621cfc",
   "metadata": {},
   "source": [
    "## 9. Replace a string character by another character by taking your own example \"sudhanshu\""
   ]
  },
  {
   "cell_type": "code",
   "execution_count": 42,
   "id": "994003b0",
   "metadata": {},
   "outputs": [],
   "source": [
    "a = \"sudhanshu\""
   ]
  },
  {
   "cell_type": "code",
   "execution_count": 48,
   "id": "37cbd99a",
   "metadata": {},
   "outputs": [
    {
     "data": {
      "text/plain": [
       "'sudhAnshu'"
      ]
     },
     "execution_count": 48,
     "metadata": {},
     "output_type": "execute_result"
    }
   ],
   "source": [
    "a.replace(\"a\",\"A\")"
   ]
  },
  {
   "cell_type": "markdown",
   "id": "3ff9f02c",
   "metadata": {},
   "source": [
    "## 10. Try  to give a definition of string center function with an example.\n",
    "\n",
    "    center() is a built-in function or method used for padding the specified fill character and returns a centered string of assigned length width."
   ]
  },
  {
   "cell_type": "code",
   "execution_count": 49,
   "id": "10901960",
   "metadata": {},
   "outputs": [],
   "source": [
    "CourseName = \"FSDS\""
   ]
  },
  {
   "cell_type": "code",
   "execution_count": 52,
   "id": "53afb1a9",
   "metadata": {},
   "outputs": [
    {
     "data": {
      "text/plain": [
       "'********FSDS********'"
      ]
     },
     "execution_count": 52,
     "metadata": {},
     "output_type": "execute_result"
    }
   ],
   "source": [
    "CourseName.center(20, \"*\")    # specified fill character is \"*\"   and width is \"20\""
   ]
  },
  {
   "cell_type": "markdown",
   "id": "cb980425",
   "metadata": {},
   "source": [
    "## 11. Write in your own definition of compiler and interpreter without copy paste form internet in your own language.\n",
    "\n",
    "* **Compiler:** Compiler helps the machine to understand the instructions/program given by user by converting the whole program in one go into the machine language.\n",
    "* **Interpreter:** Interpreter also helps the machine to understand the instructions given by user, however it conversts the program into machine language line by line.\n",
    "\n",
    "\n",
    "\n",
    "\n",
    "\n",
    "\n",
    "* pythom is a interpreter and compiled language,  "
   ]
  },
  {
   "cell_type": "markdown",
   "id": "c7b4bd90",
   "metadata": {},
   "source": [
    "## 12. Python is a interpreted of compiled language give a clear answer with your understanding. \n",
    "\n",
    "Python is an “interpreted” language.This means it uses an interpreter. An interpreter is very different from the compiler. An interpreter executes the statements of code “one-by-one” whereas the compiler executes the code entirely and lists all possible errors at a time. That’s why python shows only one error message even though your code has multiple errors. This will help you to clear errors easily and it definitely will increase the execution speed."
   ]
  },
  {
   "cell_type": "markdown",
   "id": "f58dca1d",
   "metadata": {},
   "source": [
    "## 13. Try to write a usecase of python with your understanding .\n",
    "\n",
    "* Python has a lot of **web development** frameworks like Django and Flask, which enable rapid app development. \n",
    "* Python libraries like Pandas, NumPy, SciPy, and several others help you to work with data and extract valuable information and insights which is one of the best use cases of Python i.e. **Data Science**.\n",
    "* The uses of Python language in **Artificial Intelligence** solutions include advanced computing, data analytics, image recognition,  text & data processing.\n",
    "* Some of the real world Python projects in the **gaming industry** include Battlefield 2, Frets on Fire, World of Tanks, etc. These games use Python libraries like PySoy and PyGame for development.\n",
    "* With the help of Raspberry Pi, developers can do high-level computations using Python applications. By embedding it, developers can turn normal objects into smart electronics which is another one of the real life use of Python i.e **internet of things**. \n",
    "* Selenium, PythonRequest, MechanicalSoup are some of the tools which are used to build **web scraping applications** of Python programming.\n",
    "* PyQT, Kivy, PyGUI are a few toolkits and frameworks offered to get you started with the practical uses of Python for **GUI development**.\n",
    "* Odoo and Tryton are some of the **enterprise application** development tools that enable building apps with Python. Enterprise apps are one of the most significant uses of Python language.\n",
    "* Inkscape, GIMP, Paint Shop are a few examples that showcase the real life applications of Python for **designing graphics and images**. Some of the top 3D animation packages use Python in their programming stack, which includes Blender, Houdini, 3ds Max, Lightwave, and many more.\n",
    "* Professionals all around the world use Python for building **education programs** and training courses based on levels. That is why it is one of the best use cases of Python Development.\n",
    "\n"
   ]
  },
  {
   "cell_type": "code",
   "execution_count": null,
   "id": "a184c958",
   "metadata": {},
   "outputs": [],
   "source": []
  }
 ],
 "metadata": {
  "kernelspec": {
   "display_name": "Python 3 (ipykernel)",
   "language": "python",
   "name": "python3"
  },
  "language_info": {
   "codemirror_mode": {
    "name": "ipython",
    "version": 3
   },
   "file_extension": ".py",
   "mimetype": "text/x-python",
   "name": "python",
   "nbconvert_exporter": "python",
   "pygments_lexer": "ipython3",
   "version": "3.9.7"
  }
 },
 "nbformat": 4,
 "nbformat_minor": 5
}
