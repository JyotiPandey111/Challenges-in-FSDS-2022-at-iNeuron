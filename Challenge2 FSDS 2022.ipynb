{
 "cells": [
  {
   "cell_type": "markdown",
   "id": "80311c0b",
   "metadata": {},
   "source": [
    "# Challenge 2: FSDS 2022"
   ]
  },
  {
   "cell_type": "markdown",
   "id": "69c08969",
   "metadata": {},
   "source": [
    "# Q1 :\n",
    "      ineruon \n",
    "      ineruon ineruon \n",
    "      ineruon ineruon ineruon\n",
    "      ineruon ineruon ineruon ineruon"
   ]
  },
  {
   "cell_type": "code",
   "execution_count": 1,
   "id": "581ed7af",
   "metadata": {},
   "outputs": [
    {
     "name": "stdout",
     "output_type": "stream",
     "text": [
      "ineuron \n",
      "ineuron ineuron \n",
      "ineuron ineuron ineuron \n",
      "ineuron ineuron ineuron ineuron \n"
     ]
    }
   ],
   "source": [
    "n = 4 \n",
    "for i in range(0,n):         # outer for represents a row  number of row\n",
    "    for j in range(0,i+1):   # inner for represents column\n",
    "        print(\"ineuron\" , end = \" \")\n",
    "    print()"
   ]
  },
  {
   "cell_type": "markdown",
   "id": "7a0c24ff",
   "metadata": {},
   "source": [
    "# Q2 - \n",
    "\n",
    "                 ineruon\n",
    "           ineruon      ineruon\n",
    "      ineruon\t ineruon \tineruon\n",
    "\t       ineruon\t\tineruon\n",
    "\t\t         ineruon"
   ]
  },
  {
   "cell_type": "code",
   "execution_count": null,
   "id": "ae2e9928",
   "metadata": {},
   "outputs": [],
   "source": [
    "q2 - \n",
    "\n",
    "          ineruon\n",
    "    ineruon      ineruon\n",
    "ineruon\t\tineruon \tineruon\n",
    "\tineruon\t\t ineruon\n",
    "\t\t  ineruon\n"
   ]
  },
  {
   "cell_type": "code",
   "execution_count": 2,
   "id": "61aee08c",
   "metadata": {},
   "outputs": [
    {
     "name": "stdout",
     "output_type": "stream",
     "text": [
      "                            \n",
      "                     ineuron       \n",
      "              ineuron       ineuron       \n",
      "       ineuron       ineuron       ineuron       \n",
      "              ineuron       ineuron       \n",
      "                     ineuron       \n"
     ]
    }
   ],
   "source": [
    "n = 4\n",
    "                                                       # centre function \n",
    "for i in range(0,n):       \n",
    "    for j in range(n-i):\n",
    "        print('', end=' '*len(\"ineuron\"))  \n",
    "    \n",
    "    for j in range(i):\n",
    "        print('ineuron',end=' '*len(\"ineuron\")) \n",
    "    print()\n",
    "    \n",
    "for i in range(n-2,0,-1):  # row\n",
    "    for j in range(n-i):   \n",
    "        print('', end=' '*len(\"ineuron\")) \n",
    "    for j in range(i):    # column\n",
    "        print('ineuron',end=' '*len(\"ineuron\")) \n",
    "    print()"
   ]
  },
  {
   "cell_type": "code",
   "execution_count": null,
   "id": "76641f32",
   "metadata": {},
   "outputs": [],
   "source": []
  },
  {
   "cell_type": "code",
   "execution_count": null,
   "id": "c8058faa",
   "metadata": {},
   "outputs": [],
   "source": []
  },
  {
   "cell_type": "code",
   "execution_count": null,
   "id": "0976cf75",
   "metadata": {},
   "outputs": [],
   "source": []
  },
  {
   "cell_type": "code",
   "execution_count": null,
   "id": "2d97f4e3",
   "metadata": {},
   "outputs": [],
   "source": []
  },
  {
   "cell_type": "code",
   "execution_count": 1,
   "id": "ee1e977a",
   "metadata": {},
   "outputs": [],
   "source": [
    "l = [[1,2,3,4] , (2,3,4,5,6) , (3,4,5,6,7) , set([23,4,5,45,4,4,5,45,45,4,5]) , {'k1' :\"sudh\" , \"k2\" : \"ineuron\",\"k3\":\n",
    "            \"kumar\" , 3:6 , 7:8} , [\"ineuron\" , \"data science \"]]"
   ]
  },
  {
   "cell_type": "markdown",
   "id": "3abe8cae",
   "metadata": {},
   "source": [
    "# Q3 : Try to extract all the list entity \n"
   ]
  },
  {
   "cell_type": "code",
   "execution_count": 4,
   "id": "8590fa34",
   "metadata": {},
   "outputs": [
    {
     "data": {
      "text/plain": [
       "[[1, 2, 3, 4],\n",
       " (2, 3, 4, 5, 6),\n",
       " (3, 4, 5, 6, 7),\n",
       " {4, 5, 23, 45},\n",
       " {'k1': 'sudh', 'k2': 'ineuron', 'k3': 'kumar', 3: 6, 7: 8},\n",
       " ['ineuron', 'data science ']]"
      ]
     },
     "execution_count": 4,
     "metadata": {},
     "output_type": "execute_result"
    }
   ],
   "source": [
    "l"
   ]
  },
  {
   "cell_type": "code",
   "execution_count": 5,
   "id": "8682cef4",
   "metadata": {},
   "outputs": [
    {
     "name": "stdout",
     "output_type": "stream",
     "text": [
      "[1, 2, 3, 4]\n",
      "['ineuron', 'data science ']\n"
     ]
    }
   ],
   "source": [
    "for i in l:\n",
    "    if type(i) == list:\n",
    "        print(i)"
   ]
  },
  {
   "cell_type": "markdown",
   "id": "79f60282",
   "metadata": {},
   "source": [
    "# Q4 : Try to extract all the dict entities\n"
   ]
  },
  {
   "cell_type": "code",
   "execution_count": 6,
   "id": "80fccd47",
   "metadata": {},
   "outputs": [
    {
     "data": {
      "text/plain": [
       "[[1, 2, 3, 4],\n",
       " (2, 3, 4, 5, 6),\n",
       " (3, 4, 5, 6, 7),\n",
       " {4, 5, 23, 45},\n",
       " {'k1': 'sudh', 'k2': 'ineuron', 'k3': 'kumar', 3: 6, 7: 8},\n",
       " ['ineuron', 'data science ']]"
      ]
     },
     "execution_count": 6,
     "metadata": {},
     "output_type": "execute_result"
    }
   ],
   "source": [
    "l"
   ]
  },
  {
   "cell_type": "code",
   "execution_count": 7,
   "id": "4e6d247f",
   "metadata": {},
   "outputs": [
    {
     "name": "stdout",
     "output_type": "stream",
     "text": [
      "{'k1': 'sudh', 'k2': 'ineuron', 'k3': 'kumar', 3: 6, 7: 8}\n"
     ]
    }
   ],
   "source": [
    "for i in l:\n",
    "    if type(i) == dict:\n",
    "        print(i)"
   ]
  },
  {
   "cell_type": "markdown",
   "id": "3995e2fe",
   "metadata": {},
   "source": [
    "# Q5 : Try to extract all the tuples entities\n"
   ]
  },
  {
   "cell_type": "code",
   "execution_count": 8,
   "id": "f8ef3b9e",
   "metadata": {},
   "outputs": [
    {
     "data": {
      "text/plain": [
       "[[1, 2, 3, 4],\n",
       " (2, 3, 4, 5, 6),\n",
       " (3, 4, 5, 6, 7),\n",
       " {4, 5, 23, 45},\n",
       " {'k1': 'sudh', 'k2': 'ineuron', 'k3': 'kumar', 3: 6, 7: 8},\n",
       " ['ineuron', 'data science ']]"
      ]
     },
     "execution_count": 8,
     "metadata": {},
     "output_type": "execute_result"
    }
   ],
   "source": [
    "l"
   ]
  },
  {
   "cell_type": "code",
   "execution_count": 9,
   "id": "102df3a3",
   "metadata": {},
   "outputs": [
    {
     "name": "stdout",
     "output_type": "stream",
     "text": [
      "(2, 3, 4, 5, 6)\n",
      "(3, 4, 5, 6, 7)\n"
     ]
    }
   ],
   "source": [
    "for i in l:\n",
    "    if type(i) == tuple:\n",
    "        print(i)"
   ]
  },
  {
   "cell_type": "markdown",
   "id": "af82db98",
   "metadata": {},
   "source": [
    "# Q6 : Try to extract all the numerical data it may b a part of dict key and values \n"
   ]
  },
  {
   "cell_type": "code",
   "execution_count": 10,
   "id": "a5cadd78",
   "metadata": {},
   "outputs": [
    {
     "data": {
      "text/plain": [
       "[[1, 2, 3, 4],\n",
       " (2, 3, 4, 5, 6),\n",
       " (3, 4, 5, 6, 7),\n",
       " {4, 5, 23, 45},\n",
       " {'k1': 'sudh', 'k2': 'ineuron', 'k3': 'kumar', 3: 6, 7: 8},\n",
       " ['ineuron', 'data science ']]"
      ]
     },
     "execution_count": 10,
     "metadata": {},
     "output_type": "execute_result"
    }
   ],
   "source": [
    "l"
   ]
  },
  {
   "cell_type": "code",
   "execution_count": 11,
   "id": "83f505c9",
   "metadata": {
    "scrolled": true
   },
   "outputs": [
    {
     "name": "stdout",
     "output_type": "stream",
     "text": [
      "1\n",
      "2\n",
      "3\n",
      "4\n",
      "2\n",
      "3\n",
      "4\n",
      "5\n",
      "6\n",
      "3\n",
      "4\n",
      "5\n",
      "6\n",
      "7\n",
      "45\n",
      "4\n",
      "5\n",
      "23\n",
      "3\n",
      "6\n",
      "7\n",
      "8\n"
     ]
    }
   ],
   "source": [
    "for i in l:\n",
    "    if type(i) == list or type(i)== tuple or type(i)== set:\n",
    "        for j in i:\n",
    "            if type(j)==int:\n",
    "                print(j)\n",
    "    if type(i)== dict:\n",
    "        for k,v in i.items():\n",
    "            if type(k) == int or type(v) == int:\n",
    "                print(k)\n",
    "                print(v)"
   ]
  },
  {
   "cell_type": "markdown",
   "id": "de56cef4",
   "metadata": {},
   "source": [
    "# Q7 : Try to give summation of all the numeric data \n"
   ]
  },
  {
   "cell_type": "code",
   "execution_count": null,
   "id": "4702332d",
   "metadata": {},
   "outputs": [],
   "source": [
    "l"
   ]
  },
  {
   "cell_type": "code",
   "execution_count": 12,
   "id": "53407f75",
   "metadata": {},
   "outputs": [
    {
     "name": "stdout",
     "output_type": "stream",
     "text": [
      "The summation of all the numeric data is 156\n"
     ]
    }
   ],
   "source": [
    "a1=a2=a3 =0\n",
    "for i in l:\n",
    "    if type(i) == list or type(i)== tuple or type(i)== set:\n",
    "        for j in i:\n",
    "            if type(j)==int:\n",
    "                a1 = a1+j\n",
    "    if type(i)== dict:\n",
    "        for k,v in i.items():\n",
    "            if type(k) == int or type(v) == int:\n",
    "                a2 = a2+k\n",
    "                a3= a3+v\n",
    "print(\"The summation of all the numeric data is {}\".format(a1+a2+a3))"
   ]
  },
  {
   "cell_type": "markdown",
   "id": "093c2268",
   "metadata": {},
   "source": [
    "# Q8 : Try to filter out all the odd values out all numeric data which is a part of a list \n"
   ]
  },
  {
   "cell_type": "code",
   "execution_count": 13,
   "id": "881e078c",
   "metadata": {},
   "outputs": [
    {
     "data": {
      "text/plain": [
       "[[1, 2, 3, 4],\n",
       " (2, 3, 4, 5, 6),\n",
       " (3, 4, 5, 6, 7),\n",
       " {4, 5, 23, 45},\n",
       " {'k1': 'sudh', 'k2': 'ineuron', 'k3': 'kumar', 3: 6, 7: 8},\n",
       " ['ineuron', 'data science ']]"
      ]
     },
     "execution_count": 13,
     "metadata": {},
     "output_type": "execute_result"
    }
   ],
   "source": [
    "l"
   ]
  },
  {
   "cell_type": "code",
   "execution_count": 14,
   "id": "9142795e",
   "metadata": {},
   "outputs": [
    {
     "name": "stdout",
     "output_type": "stream",
     "text": [
      "1\n",
      "3\n"
     ]
    }
   ],
   "source": [
    "for i in l:\n",
    "    if type(i) == list:\n",
    "        for j in i:\n",
    "            if type(j)==int:\n",
    "                if (j%2)!=0:\n",
    "                    print(j)"
   ]
  },
  {
   "cell_type": "markdown",
   "id": "697bc524",
   "metadata": {},
   "source": [
    "# Q9 : Try to extract \"ineuron\" out of this data\n"
   ]
  },
  {
   "cell_type": "code",
   "execution_count": null,
   "id": "c70c22d4",
   "metadata": {},
   "outputs": [],
   "source": [
    "l"
   ]
  },
  {
   "cell_type": "code",
   "execution_count": 15,
   "id": "2202d930",
   "metadata": {},
   "outputs": [
    {
     "name": "stdout",
     "output_type": "stream",
     "text": [
      "ineuron from <class 'dict'>\n",
      "ineuron from <class 'list'>\n"
     ]
    }
   ],
   "source": [
    "for i in l:\n",
    "    if type(i)== list:\n",
    "        for j in i:\n",
    "            if j == \"ineuron\":\n",
    "                print(\"{} from {}\" .format(j, type(i)))\n",
    "    if type(i)==dict:\n",
    "        for k,v in i.items():\n",
    "            if v == \"ineuron\":\n",
    "                print(\"{} from {}\" .format(v, type(i)))"
   ]
  },
  {
   "cell_type": "markdown",
   "id": "f04df14c",
   "metadata": {},
   "source": [
    "# Q10 :Try to find out a number of occurances of all the data \n"
   ]
  },
  {
   "cell_type": "code",
   "execution_count": 16,
   "id": "6ba01bda",
   "metadata": {},
   "outputs": [
    {
     "data": {
      "text/plain": [
       "[[1, 2, 3, 4],\n",
       " (2, 3, 4, 5, 6),\n",
       " (3, 4, 5, 6, 7),\n",
       " {4, 5, 23, 45},\n",
       " {'k1': 'sudh', 'k2': 'ineuron', 'k3': 'kumar', 3: 6, 7: 8},\n",
       " ['ineuron', 'data science ']]"
      ]
     },
     "execution_count": 16,
     "metadata": {},
     "output_type": "execute_result"
    }
   ],
   "source": [
    "l"
   ]
  },
  {
   "cell_type": "code",
   "execution_count": 4,
   "id": "1f0de81f",
   "metadata": {},
   "outputs": [
    {
     "name": "stdout",
     "output_type": "stream",
     "text": [
      "{1, 2, 3, 4, 5, 6, 7, 'k2', 8, 'k1', 45, 'data science ', 'kumar', 'ineuron', 23, 'sudh', 'k3'}\n",
      "1 : 1\n",
      "2 : 2\n",
      "3 : 4\n",
      "4 : 4\n",
      "5 : 3\n",
      "6 : 3\n",
      "7 : 2\n",
      "k2 : 1\n",
      "8 : 1\n",
      "k1 : 1\n",
      "45 : 1\n",
      "data science  : 1\n",
      "kumar : 1\n",
      "ineuron : 2\n",
      "23 : 1\n",
      "sudh : 1\n",
      "k3 : 1\n"
     ]
    }
   ],
   "source": [
    "l1 = []\n",
    "m = 1\n",
    "for i in l:\n",
    "    for j in i:\n",
    "        l1.append(j)\n",
    "for i in l:\n",
    "    if type(i)== dict:\n",
    "        for v in i.values():\n",
    "            l1.append(v)\n",
    "            \n",
    "print(set(l1))\n",
    "\n",
    "for i in set(l1):\n",
    "     print(i,\":\",l1.count(i))"
   ]
  },
  {
   "cell_type": "code",
   "execution_count": 17,
   "id": "12f864e3",
   "metadata": {},
   "outputs": [
    {
     "name": "stdout",
     "output_type": "stream",
     "text": [
      "{'kumar', 1, 2, 3, 4, 5, 6, 7, 'k2', 8, 45, 'sudh', 'data science ', 'k1', 'ineuron', 23, 'k3'}\n"
     ]
    }
   ],
   "source": [
    "l1 = []\n",
    "l2=[]\n",
    "m = 1\n",
    "for i in l:\n",
    "    for j in i:\n",
    "        l1.append(j)\n",
    "for i in l:\n",
    "    if type(i)== dict:\n",
    "        for v in i.values():\n",
    "            l2.append(v)\n",
    "            fl = l1+l2\n",
    "print(set(fl))\n",
    "\n"
   ]
  },
  {
   "cell_type": "code",
   "execution_count": 18,
   "id": "8148e3f9",
   "metadata": {},
   "outputs": [
    {
     "name": "stdout",
     "output_type": "stream",
     "text": [
      "kumar : 1\n",
      "1 : 1\n",
      "2 : 2\n",
      "3 : 4\n",
      "4 : 4\n",
      "5 : 3\n",
      "6 : 3\n",
      "7 : 2\n",
      "k2 : 1\n",
      "8 : 1\n",
      "45 : 1\n",
      "sudh : 1\n",
      "data science  : 1\n",
      "k1 : 1\n",
      "ineuron : 2\n",
      "23 : 1\n",
      "k3 : 1\n"
     ]
    }
   ],
   "source": [
    "for i in set(fl):\n",
    "     print(i,\":\",fl.count(i))"
   ]
  },
  {
   "cell_type": "markdown",
   "id": "3dbc2404",
   "metadata": {},
   "source": [
    "# Q11 : Try to find out number of keys in dict element\n"
   ]
  },
  {
   "cell_type": "code",
   "execution_count": 19,
   "id": "b77f6e8f",
   "metadata": {},
   "outputs": [
    {
     "data": {
      "text/plain": [
       "[[1, 2, 3, 4],\n",
       " (2, 3, 4, 5, 6),\n",
       " (3, 4, 5, 6, 7),\n",
       " {4, 5, 23, 45},\n",
       " {'k1': 'sudh', 'k2': 'ineuron', 'k3': 'kumar', 3: 6, 7: 8},\n",
       " ['ineuron', 'data science ']]"
      ]
     },
     "execution_count": 19,
     "metadata": {},
     "output_type": "execute_result"
    }
   ],
   "source": [
    "l"
   ]
  },
  {
   "cell_type": "code",
   "execution_count": 20,
   "id": "465f7385",
   "metadata": {},
   "outputs": [
    {
     "name": "stdout",
     "output_type": "stream",
     "text": [
      "5\n"
     ]
    }
   ],
   "source": [
    "for i in l:\n",
    "    if type(i)== dict:\n",
    "        print(len(i))"
   ]
  },
  {
   "cell_type": "markdown",
   "id": "a5b8f4d6",
   "metadata": {},
   "source": [
    "# Q12 : Try to filter out all the string data \n"
   ]
  },
  {
   "cell_type": "code",
   "execution_count": 21,
   "id": "356e1216",
   "metadata": {},
   "outputs": [
    {
     "data": {
      "text/plain": [
       "[[1, 2, 3, 4],\n",
       " (2, 3, 4, 5, 6),\n",
       " (3, 4, 5, 6, 7),\n",
       " {4, 5, 23, 45},\n",
       " {'k1': 'sudh', 'k2': 'ineuron', 'k3': 'kumar', 3: 6, 7: 8},\n",
       " ['ineuron', 'data science ']]"
      ]
     },
     "execution_count": 21,
     "metadata": {},
     "output_type": "execute_result"
    }
   ],
   "source": [
    "l"
   ]
  },
  {
   "cell_type": "code",
   "execution_count": 22,
   "id": "1c4cb309",
   "metadata": {},
   "outputs": [
    {
     "name": "stdout",
     "output_type": "stream",
     "text": [
      "k1\n",
      "sudh\n",
      "k2\n",
      "ineuron\n",
      "k3\n",
      "kumar\n",
      "ineuron\n",
      "data science \n"
     ]
    }
   ],
   "source": [
    "for i in l:\n",
    "    if type(i) == list:\n",
    "        for j in i:\n",
    "            if type(j) == str:\n",
    "                print(j)\n",
    "    if type(i) == dict:\n",
    "        for k,v in i.items():\n",
    "            if type(k) == str:\n",
    "                print(k)\n",
    "            if type(v) == str:\n",
    "                print(v)\n",
    "   "
   ]
  },
  {
   "cell_type": "markdown",
   "id": "49cfed56",
   "metadata": {},
   "source": [
    "# Q13 : Try to Find  out alphanum in data\n"
   ]
  },
  {
   "cell_type": "code",
   "execution_count": 27,
   "id": "0392c4f5",
   "metadata": {},
   "outputs": [
    {
     "data": {
      "text/plain": [
       "[[1, 2, 3, 4],\n",
       " (2, 3, 4, 5, 6),\n",
       " (3, 4, 5, 6, 7),\n",
       " {4, 5, 23, 45},\n",
       " {'k1': 'sudh', 'k2': 'ineuron', 'k3': 'kumar', 3: 6, 7: 8},\n",
       " ['ineuron', 'data science ']]"
      ]
     },
     "execution_count": 27,
     "metadata": {},
     "output_type": "execute_result"
    }
   ],
   "source": [
    "l"
   ]
  },
  {
   "cell_type": "code",
   "execution_count": 39,
   "id": "e6db50a3",
   "metadata": {},
   "outputs": [
    {
     "name": "stdout",
     "output_type": "stream",
     "text": [
      "kumar\n",
      "k2\n",
      "sudh\n",
      "k1\n",
      "ineuron\n",
      "k3\n"
     ]
    }
   ],
   "source": [
    "l1 = []\n",
    "l2=[]\n",
    "m = 1\n",
    "for i in l:\n",
    "    for j in i:\n",
    "        l1.append(j)\n",
    "for i in l:\n",
    "    if type(i)== dict:\n",
    "        for v in i.values():\n",
    "            l2.append(v)\n",
    "            fl = l1+l2\n",
    "for i in set(fl):\n",
    "    if type(i)== str:\n",
    "        if i.isalnum() == True:\n",
    "            print(i)"
   ]
  },
  {
   "cell_type": "markdown",
   "id": "a7f4f0e2",
   "metadata": {},
   "source": [
    "* int has no attributes as isalnum. it is a string attribute\n",
    "* 'data science 'has space"
   ]
  },
  {
   "cell_type": "markdown",
   "id": "7080441a",
   "metadata": {},
   "source": [
    "# Q14 : Try to find out multiplication of all numeric value in  the individual collection inside dataset \n"
   ]
  },
  {
   "cell_type": "code",
   "execution_count": 23,
   "id": "94692081",
   "metadata": {},
   "outputs": [
    {
     "data": {
      "text/plain": [
       "[[1, 2, 3, 4],\n",
       " (2, 3, 4, 5, 6),\n",
       " (3, 4, 5, 6, 7),\n",
       " {4, 5, 23, 45},\n",
       " {'k1': 'sudh', 'k2': 'ineuron', 'k3': 'kumar', 3: 6, 7: 8},\n",
       " ['ineuron', 'data science ']]"
      ]
     },
     "execution_count": 23,
     "metadata": {},
     "output_type": "execute_result"
    }
   ],
   "source": [
    "l"
   ]
  },
  {
   "cell_type": "code",
   "execution_count": 44,
   "id": "fe8d27ce",
   "metadata": {},
   "outputs": [
    {
     "name": "stdout",
     "output_type": "stream",
     "text": [
      "[1, 2, 3, 4, 2, 3, 4, 5, 6, 3, 4, 5, 6, 7, 45, 4, 5, 23, 'k1', 'k2', 'k3', 3, 7, 'ineuron', 'data science ', 'sudh', 'ineuron', 'kumar', 6, 8]\n",
      "\n",
      "\n",
      "1\n",
      "2\n",
      "3\n",
      "4\n",
      "2\n",
      "3\n",
      "4\n",
      "5\n",
      "6\n",
      "3\n",
      "4\n",
      "5\n",
      "6\n",
      "7\n",
      "45\n",
      "4\n",
      "5\n",
      "23\n",
      "3\n",
      "7\n",
      "6\n",
      "8\n",
      "multiplication of all the above numeric data is 908605071360000\n"
     ]
    }
   ],
   "source": [
    "l1 = []\n",
    "l2=[]\n",
    "m = 1\n",
    "for i in l:\n",
    "    for j in i:\n",
    "        l1.append(j)\n",
    "for i in l:\n",
    "    if type(i)== dict:\n",
    "        for v in i.values():\n",
    "            l2.append(v)\n",
    "            fl = l1+l2\n",
    "print(fl)\n",
    "print(\"\\n\")\n",
    "for j in fl:\n",
    "    if type(j)==int:\n",
    "        print(j)\n",
    "        m = m*j\n",
    "print(\"multiplication of all the above numeric data is {}\". format(m))\n",
    "    \n",
    "    "
   ]
  },
  {
   "cell_type": "code",
   "execution_count": null,
   "id": "454df507",
   "metadata": {},
   "outputs": [],
   "source": []
  },
  {
   "cell_type": "code",
   "execution_count": 2,
   "id": "c5ac9dc2",
   "metadata": {},
   "outputs": [
    {
     "name": "stdout",
     "output_type": "stream",
     "text": [
      "Multipilcation of <class 'list'> is 24\n",
      "Multipilcation of <class 'tuple'> is 720\n",
      "Multipilcation of <class 'tuple'> is 2520\n",
      "Multipilcation of <class 'set'> is 20700\n",
      "Multipilcation of <class 'dict'> is 1008\n",
      "Multipilcation of <class 'list'> is 1\n"
     ]
    }
   ],
   "source": [
    "for i in l:\n",
    "    m = 1\n",
    "    if type(i) == tuple or type(i) == list or type(i) == set :\n",
    "        for j in i:\n",
    "            if type(j) == int:\n",
    "                m *= j\n",
    "        print('Multipilcation of',type(i),'is',m)\n",
    "    if type(i) == dict:\n",
    "        for k,v in i.items():\n",
    "            if type(k) == int and type(v) == int:\n",
    "                m = m * k\n",
    "                m = m * v\n",
    "        print('Multipilcation of',type(i),'is',m)           \n"
   ]
  },
  {
   "cell_type": "code",
   "execution_count": null,
   "id": "816f8432",
   "metadata": {},
   "outputs": [],
   "source": []
  },
  {
   "cell_type": "code",
   "execution_count": null,
   "id": "41b40b5e",
   "metadata": {},
   "outputs": [],
   "source": []
  },
  {
   "cell_type": "code",
   "execution_count": null,
   "id": "4dd5d93a",
   "metadata": {},
   "outputs": [],
   "source": []
  },
  {
   "cell_type": "markdown",
   "id": "6184b3c7",
   "metadata": {},
   "source": [
    "# Q15 : Try to unwrape all the collection inside collection and create a flat list \n",
    "    \n",
    "    \n"
   ]
  },
  {
   "cell_type": "code",
   "execution_count": 25,
   "id": "2a5bddc6",
   "metadata": {},
   "outputs": [
    {
     "data": {
      "text/plain": [
       "[[1, 2, 3, 4],\n",
       " (2, 3, 4, 5, 6),\n",
       " (3, 4, 5, 6, 7),\n",
       " {4, 5, 23, 45},\n",
       " {'k1': 'sudh', 'k2': 'ineuron', 'k3': 'kumar', 3: 6, 7: 8},\n",
       " ['ineuron', 'data science ']]"
      ]
     },
     "execution_count": 25,
     "metadata": {},
     "output_type": "execute_result"
    }
   ],
   "source": [
    "l"
   ]
  },
  {
   "cell_type": "code",
   "execution_count": 40,
   "id": "e8d82983",
   "metadata": {},
   "outputs": [
    {
     "name": "stdout",
     "output_type": "stream",
     "text": [
      "{'kumar', 1, 2, 3, 4, 5, 6, 7, 'k2', 8, 45, 'sudh', 'data science ', 'k1', 'ineuron', 23, 'k3'}\n"
     ]
    }
   ],
   "source": [
    "l1 = []\n",
    "l2=[]\n",
    "m = 1\n",
    "for i in l:\n",
    "    for j in i:\n",
    "        l1.append(j)\n",
    "for i in l:\n",
    "    if type(i)== dict:\n",
    "        for v in i.values():\n",
    "            l2.append(v)\n",
    "            fl = l1+l2\n",
    "print(set(fl))"
   ]
  },
  {
   "cell_type": "code",
   "execution_count": null,
   "id": "85bc05a7",
   "metadata": {},
   "outputs": [],
   "source": []
  }
 ],
 "metadata": {
  "kernelspec": {
   "display_name": "Python 3 (ipykernel)",
   "language": "python",
   "name": "python3"
  },
  "language_info": {
   "codemirror_mode": {
    "name": "ipython",
    "version": 3
   },
   "file_extension": ".py",
   "mimetype": "text/x-python",
   "name": "python",
   "nbconvert_exporter": "python",
   "pygments_lexer": "ipython3",
   "version": "3.9.7"
  }
 },
 "nbformat": 4,
 "nbformat_minor": 5
}
