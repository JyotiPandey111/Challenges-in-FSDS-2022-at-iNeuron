{
 "cells": [
  {
   "cell_type": "markdown",
   "id": "5fb27503",
   "metadata": {},
   "source": [
    "Todays task : 5 june 2022\n",
    "   * q1 : Try to print a prime number in between 1 to 1000\n",
    "   * q2 : Try to write a function which  is equivalent  to print function in python\n",
    "   * q3 : Try to write a function which is a replica of list append , extend and pop function \n",
    "   * q4 : Try to write a lambda function which can return a concatination of all the string that we will pass\n",
    "   * q5 : Try to write a lambda function which can return list of square of all the data between 1-100 \n",
    "   * q6 : Try to write a 10 Different different example of lambda function with a choice of your taks \n",
    "   * q7 : Try to wwrite a funtion whihc can perform a read operation from .txt file \n",
    "        \n",
    "        - shivan@ineuron.ai\n",
    "        - sudhashu@ineuron.ai"
   ]
  },
  {
   "cell_type": "markdown",
   "id": "07666169",
   "metadata": {},
   "source": [
    "# q1 : Try to print a prime number in between 1 to 1000"
   ]
  },
  {
   "cell_type": "code",
   "execution_count": 1,
   "id": "efcefdff",
   "metadata": {},
   "outputs": [
    {
     "name": "stdout",
     "output_type": "stream",
     "text": [
      "2\n",
      "3\n",
      "5\n",
      "7\n",
      "11\n",
      "13\n",
      "17\n",
      "19\n",
      "23\n",
      "29\n",
      "31\n",
      "37\n",
      "41\n",
      "43\n",
      "47\n",
      "53\n",
      "59\n",
      "61\n",
      "67\n",
      "71\n",
      "73\n",
      "79\n",
      "83\n",
      "89\n",
      "97\n",
      "101\n",
      "103\n",
      "107\n",
      "109\n",
      "113\n",
      "127\n",
      "131\n",
      "137\n",
      "139\n",
      "149\n",
      "151\n",
      "157\n",
      "163\n",
      "167\n",
      "173\n",
      "179\n",
      "181\n",
      "191\n",
      "193\n",
      "197\n",
      "199\n",
      "211\n",
      "223\n",
      "227\n",
      "229\n",
      "233\n",
      "239\n",
      "241\n",
      "251\n",
      "257\n",
      "263\n",
      "269\n",
      "271\n",
      "277\n",
      "281\n",
      "283\n",
      "293\n",
      "307\n",
      "311\n",
      "313\n",
      "317\n",
      "331\n",
      "337\n",
      "347\n",
      "349\n",
      "353\n",
      "359\n",
      "367\n",
      "373\n",
      "379\n",
      "383\n",
      "389\n",
      "397\n",
      "401\n",
      "409\n",
      "419\n",
      "421\n",
      "431\n",
      "433\n",
      "439\n",
      "443\n",
      "449\n",
      "457\n",
      "461\n",
      "463\n",
      "467\n",
      "479\n",
      "487\n",
      "491\n",
      "499\n",
      "503\n",
      "509\n",
      "521\n",
      "523\n",
      "541\n",
      "547\n",
      "557\n",
      "563\n",
      "569\n",
      "571\n",
      "577\n",
      "587\n",
      "593\n",
      "599\n",
      "601\n",
      "607\n",
      "613\n",
      "617\n",
      "619\n",
      "631\n",
      "641\n",
      "643\n",
      "647\n",
      "653\n",
      "659\n",
      "661\n",
      "673\n",
      "677\n",
      "683\n",
      "691\n",
      "701\n",
      "709\n",
      "719\n",
      "727\n",
      "733\n",
      "739\n",
      "743\n",
      "751\n",
      "757\n",
      "761\n",
      "769\n",
      "773\n",
      "787\n",
      "797\n",
      "809\n",
      "811\n",
      "821\n",
      "823\n",
      "827\n",
      "829\n",
      "839\n",
      "853\n",
      "857\n",
      "859\n",
      "863\n",
      "877\n",
      "881\n",
      "883\n",
      "887\n",
      "907\n",
      "911\n",
      "919\n",
      "929\n",
      "937\n",
      "941\n",
      "947\n",
      "953\n",
      "967\n",
      "971\n",
      "977\n",
      "983\n",
      "991\n",
      "997\n"
     ]
    }
   ],
   "source": [
    "for num in range(1, 1001):\n",
    "    if num > 1:\n",
    "        for i in range(2, num):\n",
    "            if (num % i) == 0:\n",
    "                break\n",
    "        else:\n",
    "            print(num)"
   ]
  },
  {
   "cell_type": "markdown",
   "id": "f964666c",
   "metadata": {},
   "source": [
    "# q2 : Try to write a function which  is equivalent  to print function in python"
   ]
  },
  {
   "cell_type": "code",
   "execution_count": 3,
   "id": "6011f63d",
   "metadata": {},
   "outputs": [
    {
     "name": "stdout",
     "output_type": "stream",
     "text": [
      "Enter the data you want to print: This is FSDS 2022\n"
     ]
    },
    {
     "data": {
      "text/plain": [
       "'This is FSDS 2022'"
      ]
     },
     "execution_count": 3,
     "metadata": {},
     "output_type": "execute_result"
    }
   ],
   "source": [
    "def my_print():\n",
    "    data = input(\"Enter the data you want to print: \")\n",
    "    return data\n",
    "\n",
    "\n",
    "my_print()"
   ]
  },
  {
   "cell_type": "markdown",
   "id": "03259676",
   "metadata": {},
   "source": [
    "# q3 : Try to write a function which is a replica of list append , extend and pop function "
   ]
  },
  {
   "cell_type": "markdown",
   "id": "90284857",
   "metadata": {},
   "source": [
    "# append"
   ]
  },
  {
   "cell_type": "code",
   "execution_count": 16,
   "id": "4d00a917",
   "metadata": {},
   "outputs": [],
   "source": [
    "l = [1,2,3,4,5, \"s\"]"
   ]
  },
  {
   "cell_type": "code",
   "execution_count": 17,
   "id": "bd632819",
   "metadata": {},
   "outputs": [
    {
     "name": "stdout",
     "output_type": "stream",
     "text": [
      "Enter the data you want to append in list: new\n"
     ]
    },
    {
     "data": {
      "text/plain": [
       "[1, 2, 3, 4, 5, 's', 'new']"
      ]
     },
     "execution_count": 17,
     "metadata": {},
     "output_type": "execute_result"
    }
   ],
   "source": [
    "def my_append():\n",
    "    global l\n",
    "    e = input(\"Enter the data you want to append in list: \")\n",
    "    l = l+[e]\n",
    "    return l\n",
    "my_append()"
   ]
  },
  {
   "cell_type": "code",
   "execution_count": 18,
   "id": "449b0a2d",
   "metadata": {},
   "outputs": [
    {
     "name": "stdout",
     "output_type": "stream",
     "text": [
      "Enter the data you want to append in list: new2\n"
     ]
    },
    {
     "data": {
      "text/plain": [
       "[1, 2, 3, 4, 5, 's', 'new', 'new2']"
      ]
     },
     "execution_count": 18,
     "metadata": {},
     "output_type": "execute_result"
    }
   ],
   "source": [
    "my_append()"
   ]
  },
  {
   "cell_type": "code",
   "execution_count": null,
   "id": "84851d08",
   "metadata": {},
   "outputs": [],
   "source": []
  },
  {
   "cell_type": "code",
   "execution_count": 14,
   "id": "ebe9882e",
   "metadata": {},
   "outputs": [],
   "source": []
  },
  {
   "cell_type": "markdown",
   "id": "3a452b95",
   "metadata": {},
   "source": [
    "# extend"
   ]
  },
  {
   "cell_type": "code",
   "execution_count": 9,
   "id": "c4139cc4",
   "metadata": {},
   "outputs": [
    {
     "name": "stdout",
     "output_type": "stream",
     "text": [
      "'int' object is not iterable\n"
     ]
    },
    {
     "data": {
      "text/plain": [
       "[1, 2, 3, 4, 5, 's']"
      ]
     },
     "execution_count": 9,
     "metadata": {},
     "output_type": "execute_result"
    }
   ],
   "source": [
    "l = [1,2,3,4,5, \"s\"]\n",
    "def my_extend(data):\n",
    "    global l\n",
    "    if type(data) == int:\n",
    "        print(\"'int' object is not iterable\")\n",
    "        \n",
    "    if type(data)==str  :\n",
    "        for i in data:\n",
    "            for j in i:\n",
    "                l = l+[j]\n",
    "                \n",
    "    if type(data)==dict:\n",
    "        for k in data.keys():\n",
    "            l = l +[k]\n",
    "            \n",
    "    if type (data)== list:\n",
    "        for i in data:\n",
    "            if type(i)==int:\n",
    "                l = l+[i]\n",
    "            if type(i)==str:\n",
    "                for j in i:\n",
    "                    l = l+[j]\n",
    "            if type(i)==dict:\n",
    "                for k in i.keys():\n",
    "                    l = l +[k]\n",
    "            if type(i)==list:\n",
    "                for z in i:\n",
    "                    l = l +[z]\n",
    "        \n",
    "            \n",
    "    if  type(data)==tuple: \n",
    "        for i in data:\n",
    "            if type(i)==int:\n",
    "                l = l+[i]\n",
    "            if type(i)==str:\n",
    "                for j in i:\n",
    "                    l = l+[j]\n",
    "            if type(i)==dict:\n",
    "                for k in i.keys():\n",
    "                    l = l +[k]\n",
    "            if type (i)== list:\n",
    "                for b in i:\n",
    "                    if type(b)==int:\n",
    "                        l = l+[b]\n",
    "                    if type(b)==str:\n",
    "                        for c in b:\n",
    "                            l = l+[c]\n",
    "                    if type(b)==dict:\n",
    "                        for k in b.keys():\n",
    "                            l = l +[k]\n",
    "                    if type(b)==list:\n",
    "                        for z in i:\n",
    "                            l = l +[z]\n",
    "            \n",
    "            \n",
    "    \n",
    "    return l\n",
    "\n",
    "\n",
    "my_extend(123)"
   ]
  },
  {
   "cell_type": "code",
   "execution_count": 10,
   "id": "aec0c65d",
   "metadata": {},
   "outputs": [
    {
     "data": {
      "text/plain": [
       "[1, 2, 3, 4, 5, 's', 'F', 'S', 'D', 'S']"
      ]
     },
     "execution_count": 10,
     "metadata": {},
     "output_type": "execute_result"
    }
   ],
   "source": [
    "my_extend(\"FSDS\")  # string extend"
   ]
  },
  {
   "cell_type": "code",
   "execution_count": 11,
   "id": "4a2607d0",
   "metadata": {},
   "outputs": [
    {
     "data": {
      "text/plain": [
       "[1, 2, 3, 4, 5, 's', 'F', 'S', 'D', 'S', 5, 6]"
      ]
     },
     "execution_count": 11,
     "metadata": {},
     "output_type": "execute_result"
    }
   ],
   "source": [
    "my_extend({5:\"one\",6:\"two\"})  # dictionary"
   ]
  },
  {
   "cell_type": "code",
   "execution_count": 12,
   "id": "abaa1cc4",
   "metadata": {},
   "outputs": [
    {
     "data": {
      "text/plain": [
       "[1,\n",
       " 2,\n",
       " 3,\n",
       " 4,\n",
       " 5,\n",
       " 's',\n",
       " 'F',\n",
       " 'S',\n",
       " 'D',\n",
       " 'S',\n",
       " 5,\n",
       " 6,\n",
       " 7,\n",
       " 8,\n",
       " 9,\n",
       " 'f',\n",
       " 's',\n",
       " 'd',\n",
       " 's',\n",
       " 10,\n",
       " 11]"
      ]
     },
     "execution_count": 12,
     "metadata": {},
     "output_type": "execute_result"
    }
   ],
   "source": [
    "my_extend([7,8,9,\"fsds\",[10,11]])"
   ]
  },
  {
   "cell_type": "code",
   "execution_count": 14,
   "id": "62fbb752",
   "metadata": {},
   "outputs": [
    {
     "data": {
      "text/plain": [
       "[1,\n",
       " 2,\n",
       " 3,\n",
       " 4,\n",
       " 5,\n",
       " 's',\n",
       " 'F',\n",
       " 'S',\n",
       " 'D',\n",
       " 'S',\n",
       " 5,\n",
       " 6,\n",
       " 7,\n",
       " 8,\n",
       " 9,\n",
       " 'f',\n",
       " 's',\n",
       " 'd',\n",
       " 's',\n",
       " 10,\n",
       " 11,\n",
       " 1,\n",
       " 'y',\n",
       " 1,\n",
       " 2,\n",
       " 1,\n",
       " 2]"
      ]
     },
     "execution_count": 14,
     "metadata": {},
     "output_type": "execute_result"
    }
   ],
   "source": [
    "my_extend((1,\"y\",[1,2],{1:\"one\",2:\"two\"}))"
   ]
  },
  {
   "cell_type": "code",
   "execution_count": null,
   "id": "e5955793",
   "metadata": {},
   "outputs": [],
   "source": []
  },
  {
   "cell_type": "markdown",
   "id": "c8f8e5c7",
   "metadata": {},
   "source": [
    "# pop"
   ]
  },
  {
   "cell_type": "code",
   "execution_count": 18,
   "id": "857c3ea6",
   "metadata": {},
   "outputs": [
    {
     "name": "stdout",
     "output_type": "stream",
     "text": [
      "5\n"
     ]
    },
    {
     "data": {
      "text/plain": [
       "[1, 2, 3, 4]"
      ]
     },
     "execution_count": 18,
     "metadata": {},
     "output_type": "execute_result"
    }
   ],
   "source": [
    "def my_pop(data):\n",
    "    n = len(data)\n",
    "    popped=[]\n",
    "    for j in range(n-1):\n",
    "        popped.append(data[j])\n",
    "    print(data[n-1])\n",
    "    return popped\n",
    "    \n",
    "my_pop([1,2,3,4,5])"
   ]
  },
  {
   "cell_type": "code",
   "execution_count": null,
   "id": "9b0d0739",
   "metadata": {},
   "outputs": [],
   "source": []
  },
  {
   "cell_type": "code",
   "execution_count": null,
   "id": "ea7a2253",
   "metadata": {},
   "outputs": [],
   "source": []
  },
  {
   "cell_type": "code",
   "execution_count": null,
   "id": "c1a8a896",
   "metadata": {},
   "outputs": [],
   "source": []
  },
  {
   "cell_type": "code",
   "execution_count": null,
   "id": "5bd4634b",
   "metadata": {},
   "outputs": [],
   "source": []
  },
  {
   "cell_type": "markdown",
   "id": "f44a885c",
   "metadata": {},
   "source": [
    "# q4 : Try to write a lambda function which can return a concatination of all the string that we will pass"
   ]
  },
  {
   "cell_type": "code",
   "execution_count": 36,
   "id": "788a81e1",
   "metadata": {},
   "outputs": [
    {
     "name": "stdout",
     "output_type": "stream",
     "text": [
      "FSDS2022\n"
     ]
    }
   ],
   "source": [
    "concat_string = lambda *s: print(\"\".join(s))\n",
    "concat_string(\"FS\",\"DS\",\"20\",\"22\")"
   ]
  },
  {
   "cell_type": "markdown",
   "id": "c43e67d8",
   "metadata": {},
   "source": [
    "# q5 : Try to write a lambda function which can return list of square of all the data between 1-100 "
   ]
  },
  {
   "cell_type": "code",
   "execution_count": 43,
   "id": "08e3c97c",
   "metadata": {},
   "outputs": [
    {
     "data": {
      "text/plain": [
       "[0,\n",
       " 1,\n",
       " 4,\n",
       " 9,\n",
       " 16,\n",
       " 25,\n",
       " 36,\n",
       " 49,\n",
       " 64,\n",
       " 81,\n",
       " 100,\n",
       " 121,\n",
       " 144,\n",
       " 169,\n",
       " 196,\n",
       " 225,\n",
       " 256,\n",
       " 289,\n",
       " 324,\n",
       " 361,\n",
       " 400,\n",
       " 441,\n",
       " 484,\n",
       " 529,\n",
       " 576,\n",
       " 625,\n",
       " 676,\n",
       " 729,\n",
       " 784,\n",
       " 841,\n",
       " 900,\n",
       " 961,\n",
       " 1024,\n",
       " 1089,\n",
       " 1156,\n",
       " 1225,\n",
       " 1296,\n",
       " 1369,\n",
       " 1444,\n",
       " 1521,\n",
       " 1600,\n",
       " 1681,\n",
       " 1764,\n",
       " 1849,\n",
       " 1936,\n",
       " 2025,\n",
       " 2116,\n",
       " 2209,\n",
       " 2304,\n",
       " 2401,\n",
       " 2500,\n",
       " 2601,\n",
       " 2704,\n",
       " 2809,\n",
       " 2916,\n",
       " 3025,\n",
       " 3136,\n",
       " 3249,\n",
       " 3364,\n",
       " 3481,\n",
       " 3600,\n",
       " 3721,\n",
       " 3844,\n",
       " 3969,\n",
       " 4096,\n",
       " 4225,\n",
       " 4356,\n",
       " 4489,\n",
       " 4624,\n",
       " 4761,\n",
       " 4900,\n",
       " 5041,\n",
       " 5184,\n",
       " 5329,\n",
       " 5476,\n",
       " 5625,\n",
       " 5776,\n",
       " 5929,\n",
       " 6084,\n",
       " 6241,\n",
       " 6400,\n",
       " 6561,\n",
       " 6724,\n",
       " 6889,\n",
       " 7056,\n",
       " 7225,\n",
       " 7396,\n",
       " 7569,\n",
       " 7744,\n",
       " 7921,\n",
       " 8100,\n",
       " 8281,\n",
       " 8464,\n",
       " 8649,\n",
       " 8836,\n",
       " 9025,\n",
       " 9216,\n",
       " 9409,\n",
       " 9604,\n",
       " 9801,\n",
       " 10000]"
      ]
     },
     "execution_count": 43,
     "metadata": {},
     "output_type": "execute_result"
    }
   ],
   "source": [
    "n = lambda m: [i*i for i in m ] \n",
    "n(range(101))"
   ]
  },
  {
   "cell_type": "markdown",
   "id": "8c45845e",
   "metadata": {},
   "source": [
    "# q6 : Try to write a 10 Different different example of lambda function with a choice of your taks \n",
    "lambda argument(s): expression"
   ]
  },
  {
   "cell_type": "code",
   "execution_count": 44,
   "id": "1637f75a",
   "metadata": {},
   "outputs": [
    {
     "name": "stdout",
     "output_type": "stream",
     "text": [
      "13\n"
     ]
    }
   ],
   "source": [
    "#1\n",
    "x = lambda a, b, c : a + b + c\n",
    "print(x(5, 6, 2))"
   ]
  },
  {
   "cell_type": "code",
   "execution_count": 2,
   "id": "b5c94dd3",
   "metadata": {},
   "outputs": [
    {
     "data": {
      "text/plain": [
       "(1, 2, 3)"
      ]
     },
     "execution_count": 2,
     "metadata": {},
     "output_type": "execute_result"
    }
   ],
   "source": [
    "#2\n",
    "x = lambda *a: a\n",
    "x(1,2,3)"
   ]
  },
  {
   "cell_type": "code",
   "execution_count": 9,
   "id": "e6beda71",
   "metadata": {},
   "outputs": [
    {
     "data": {
      "text/plain": [
       "{'a': 'one', 'b': 'two'}"
      ]
     },
     "execution_count": 9,
     "metadata": {},
     "output_type": "execute_result"
    }
   ],
   "source": [
    "#3\n",
    "x = lambda **a: a\n",
    "x(a=\"one\",b=\"two\")"
   ]
  },
  {
   "cell_type": "code",
   "execution_count": 11,
   "id": "3aba9074",
   "metadata": {},
   "outputs": [
    {
     "data": {
      "text/plain": [
       "24"
      ]
     },
     "execution_count": 11,
     "metadata": {},
     "output_type": "execute_result"
    }
   ],
   "source": [
    "#4\n",
    "(lambda x: x*2)(12)\n"
   ]
  },
  {
   "cell_type": "code",
   "execution_count": null,
   "id": "be399536",
   "metadata": {},
   "outputs": [],
   "source": []
  },
  {
   "cell_type": "markdown",
   "id": "9569eebf",
   "metadata": {},
   "source": [
    "Lambda functions can be used together with Python's built-in functions like map(), filter() etc."
   ]
  },
  {
   "cell_type": "markdown",
   "id": "9efac549",
   "metadata": {},
   "source": [
    "The filter() function in Python takes in a function and a list as arguments.\n",
    "* filter(object, iterable)\n",
    "- The function is called with all the items in the list and a new list is returned which contains items for which the function evaluates to True.\n",
    "\n",
    "Here is an example use of filter() function to filter out only even numbers from a list."
   ]
  },
  {
   "cell_type": "code",
   "execution_count": 12,
   "id": "d680ce96",
   "metadata": {},
   "outputs": [
    {
     "name": "stdout",
     "output_type": "stream",
     "text": [
      "[4, 6, 8, 12]\n"
     ]
    }
   ],
   "source": [
    "#5\n",
    "# Program to filter out only the even items from a list\n",
    "my_list = [1, 5, 4, 6, 8, 11, 3, 12]\n",
    "\n",
    "new_list = list(filter(lambda x: (x%2 == 0) , my_list))\n",
    "\n",
    "print(new_list)"
   ]
  },
  {
   "cell_type": "code",
   "execution_count": null,
   "id": "869c940b",
   "metadata": {},
   "outputs": [],
   "source": []
  },
  {
   "cell_type": "markdown",
   "id": "c64c7a39",
   "metadata": {},
   "source": [
    "The map() function in Python takes in a function and a list.\n",
    "* map(object, iterable_1, iterable_2, ...)\n",
    "* The function is called with all the items in the list and a new list is returned which contains items returned by that function for each item.\n",
    "\n",
    "Here is an example use of map() function to double all the items in a list."
   ]
  },
  {
   "cell_type": "code",
   "execution_count": 13,
   "id": "bfb9c468",
   "metadata": {},
   "outputs": [
    {
     "name": "stdout",
     "output_type": "stream",
     "text": [
      "[2, 10, 8, 12, 16, 22, 6, 24]\n"
     ]
    }
   ],
   "source": [
    "#6\n",
    "# Program to double each item in a list using map()\n",
    "\n",
    "my_list = [1, 5, 4, 6, 8, 11, 3, 12]\n",
    "\n",
    "new_list = list(map(lambda x: x * 2 , my_list))\n",
    "\n",
    "print(new_list)"
   ]
  },
  {
   "cell_type": "code",
   "execution_count": 14,
   "id": "8f3d55f9",
   "metadata": {},
   "outputs": [
    {
     "data": {
      "text/plain": [
       "[1, 4, 9, 16, 25]"
      ]
     },
     "execution_count": 14,
     "metadata": {},
     "output_type": "execute_result"
    }
   ],
   "source": [
    "#7 \n",
    "n = lambda *m: [i*i for i in m ] \n",
    "n(1,2,3,4,5)"
   ]
  },
  {
   "cell_type": "code",
   "execution_count": 17,
   "id": "9e3a1cdf",
   "metadata": {},
   "outputs": [
    {
     "data": {
      "text/plain": [
       "['F', 'S', 'D', 'S']"
      ]
     },
     "execution_count": 17,
     "metadata": {},
     "output_type": "execute_result"
    }
   ],
   "source": [
    "#8 list comprehension\n",
    "s= \"FSDS\"\n",
    "extend = lambda *m: [i for i in s]\n",
    "extend()"
   ]
  },
  {
   "cell_type": "code",
   "execution_count": 19,
   "id": "50f57ade",
   "metadata": {},
   "outputs": [
    {
     "data": {
      "text/plain": [
       "{'D', 'F', 'S'}"
      ]
     },
     "execution_count": 19,
     "metadata": {},
     "output_type": "execute_result"
    }
   ],
   "source": [
    "#9 return set \n",
    "s= \"FSDS\"\n",
    "set_lambda = lambda *m: {i for i in s}\n",
    "set_lambda()"
   ]
  },
  {
   "cell_type": "code",
   "execution_count": 24,
   "id": "82573bf1",
   "metadata": {},
   "outputs": [
    {
     "data": {
      "text/plain": [
       "{'a', 'b'}"
      ]
     },
     "execution_count": 24,
     "metadata": {},
     "output_type": "execute_result"
    }
   ],
   "source": [
    "#10\n",
    "d= {\"a\":\"one\",\"b\":\"two\", \"a\":\"three\"}\n",
    "unique_keys = lambda *m: {i for i in d}\n",
    "unique_keys()"
   ]
  },
  {
   "cell_type": "markdown",
   "id": "bd95d86c",
   "metadata": {},
   "source": [
    "# q7 : Try to wwrite a funtion whihc can perform a read operation from .txt file "
   ]
  },
  {
   "cell_type": "code",
   "execution_count": 4,
   "id": "4654aba8",
   "metadata": {},
   "outputs": [],
   "source": [
    "def write_file():\n",
    "    f = open(\"test.txt\", \"w\")      \n",
    "    f.write(\"I created this file\") \n",
    "    f.close()\n",
    "    \n",
    "    \n",
    "write_file()"
   ]
  },
  {
   "cell_type": "code",
   "execution_count": 6,
   "id": "c445b7b2",
   "metadata": {},
   "outputs": [
    {
     "data": {
      "text/plain": [
       "'I created this file'"
      ]
     },
     "execution_count": 6,
     "metadata": {},
     "output_type": "execute_result"
    }
   ],
   "source": [
    "\n",
    "    \n",
    "def read_file():\n",
    "    f= open(\"test.txt\",\"r\")\n",
    "    f.seek(0)\n",
    "    return f.read()\n",
    "\n",
    "\n",
    "read_file()"
   ]
  },
  {
   "cell_type": "code",
   "execution_count": null,
   "id": "32617390",
   "metadata": {},
   "outputs": [],
   "source": []
  }
 ],
 "metadata": {
  "kernelspec": {
   "display_name": "Python 3 (ipykernel)",
   "language": "python",
   "name": "python3"
  },
  "language_info": {
   "codemirror_mode": {
    "name": "ipython",
    "version": 3
   },
   "file_extension": ".py",
   "mimetype": "text/x-python",
   "name": "python",
   "nbconvert_exporter": "python",
   "pygments_lexer": "ipython3",
   "version": "3.9.7"
  }
 },
 "nbformat": 4,
 "nbformat_minor": 5
}
